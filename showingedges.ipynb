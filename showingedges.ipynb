{
  "nbformat": 4,
  "nbformat_minor": 0,
  "metadata": {
    "colab": {
      "name": "Untitled168.ipynb",
      "private_outputs": true,
      "provenance": []
    },
    "kernelspec": {
      "name": "python3",
      "display_name": "Python 3"
    },
    "language_info": {
      "name": "python"
    }
  },
  "cells": [
    {
      "cell_type": "code",
      "source": [
        "from google.colab import files\n",
        "\n",
        "uploaded = files.upload()"
      ],
      "metadata": {
        "id": "NtLP_OT6G9ZT"
      },
      "execution_count": null,
      "outputs": []
    },
    {
      "cell_type": "code",
      "source": [
        "import cv2"
      ],
      "metadata": {
        "id": "8LlVcDOzHCFK"
      },
      "execution_count": null,
      "outputs": []
    },
    {
      "cell_type": "code",
      "source": [
        "pip install imutils"
      ],
      "metadata": {
        "id": "sj0XTrkwHGvR"
      },
      "execution_count": null,
      "outputs": []
    },
    {
      "cell_type": "code",
      "source": [
        "import imutils"
      ],
      "metadata": {
        "id": "iKBuPL_JHKsp"
      },
      "execution_count": null,
      "outputs": []
    },
    {
      "cell_type": "code",
      "execution_count": null,
      "metadata": {
        "id": "a-_K8BeeGtPI"
      },
      "outputs": [],
      "source": [
        "# load the example image\n",
        "image = cv2.imread(\"easysudoko.bmp\")\n",
        "# pre-process the image by resizing it, converting it to\n",
        "# graycale, blurring it, and computing an edge map\n",
        "image = imutils.resize(image, height=500)\n",
        "gray = cv2.cvtColor(image, cv2.COLOR_BGR2GRAY)\n",
        "blurred = cv2.GaussianBlur(gray, (5, 5), 0)\n",
        "edged = cv2.Canny(blurred, 50, 200, 255)"
      ]
    },
    {
      "cell_type": "code",
      "source": [
        "import matplotlib.pyplot as plt\n"
      ],
      "metadata": {
        "id": "7IokfEK1H_v0"
      },
      "execution_count": null,
      "outputs": []
    },
    {
      "cell_type": "code",
      "source": [
        "plt.imshow(edged)\n",
        "\n"
      ],
      "metadata": {
        "id": "wkKLVGGDHNPk"
      },
      "execution_count": null,
      "outputs": []
    }
  ]
}